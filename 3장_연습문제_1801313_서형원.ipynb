{
  "nbformat": 4,
  "nbformat_minor": 0,
  "metadata": {
    "colab": {
      "provenance": [],
      "authorship_tag": "ABX9TyPI0cmW8weL3Zrjm7Y2YJgP",
      "include_colab_link": true
    },
    "kernelspec": {
      "name": "python3",
      "display_name": "Python 3"
    },
    "language_info": {
      "name": "python"
    }
  },
  "cells": [
    {
      "cell_type": "markdown",
      "metadata": {
        "id": "view-in-github",
        "colab_type": "text"
      },
      "source": [
        "<a href=\"https://colab.research.google.com/github/bdfsd/knu_bdna_2022_1801313/blob/main/3%EC%9E%A5_%EC%97%B0%EC%8A%B5%EB%AC%B8%EC%A0%9C_1801313_%EC%84%9C%ED%98%95%EC%9B%90.ipynb\" target=\"_parent\"><img src=\"https://colab.research.google.com/assets/colab-badge.svg\" alt=\"Open In Colab\"/></a>"
      ]
    },
    {
      "cell_type": "markdown",
      "source": [
        "3장 연습문제"
      ],
      "metadata": {
        "id": "i_B8_GDyEsrK"
      }
    },
    {
      "cell_type": "code",
      "execution_count": 1,
      "metadata": {
        "id": "L0d_5rlEErQh"
      },
      "outputs": [],
      "source": [
        "from sklearn.cluster import KMeans\n",
        "from sklearn.preprocessing import StandardScaler\n",
        "import pandas as pd\n",
        "import numpy as np\n",
        "import matplotlib.pyplot as plt\n",
        "import math"
      ]
    },
    {
      "cell_type": "markdown",
      "source": [
        "#1번 문제"
      ],
      "metadata": {
        "id": "6olQqWJdFzFr"
      }
    },
    {
      "cell_type": "code",
      "source": [
        "# 1-1번 군집 1에 있는 d의 거리리\n",
        "def distance(x1, y1, x2, y2):\n",
        "    result = math.sqrt( math.pow(x1 - x2, 2) + math.pow(y1 - y2, 2))\n",
        "    return result\n",
        "A = (13, 19)\n",
        "B = (10, 15)\n",
        "d = distance(A[0], A[1], B[0], B[1])\n",
        "\n",
        "print(d)"
      ],
      "metadata": {
        "colab": {
          "base_uri": "https://localhost:8080/"
        },
        "id": "IP8JHfxZF31b",
        "outputId": "e4425e62-6447-4802-a749-815af1baae9d"
      },
      "execution_count": 2,
      "outputs": [
        {
          "output_type": "stream",
          "name": "stdout",
          "text": [
            "5.0\n"
          ]
        }
      ]
    },
    {
      "cell_type": "code",
      "source": [
        "# 1-2번 WSS 값\n",
        "WSS_1 = 5**2 + 4**2 + 3**2\n",
        "WSS_2 = 4**2 + 4**2\n",
        "print(WSS_1)\n",
        "print(WSS_2)\n",
        "\n",
        "# 1-2번 TWSS 값\n",
        "TWSS = WSS_1 + WSS_2\n",
        "print(TWSS)"
      ],
      "metadata": {
        "colab": {
          "base_uri": "https://localhost:8080/"
        },
        "id": "GMd0xOTvHnZ7",
        "outputId": "6c8681db-a274-4aba-d231-1f7fc54533d4"
      },
      "execution_count": 3,
      "outputs": [
        {
          "output_type": "stream",
          "name": "stdout",
          "text": [
            "50\n",
            "32\n",
            "82\n"
          ]
        }
      ]
    },
    {
      "cell_type": "code",
      "source": [
        "# 1-3번 정답 2개개"
      ],
      "metadata": {
        "id": "lNw47fUHIl_q"
      },
      "execution_count": 4,
      "outputs": []
    },
    {
      "cell_type": "markdown",
      "source": [
        "#2-1번 문제\n"
      ],
      "metadata": {
        "id": "9L9A09zcF1tb"
      }
    },
    {
      "cell_type": "code",
      "source": [
        "# 데이터 리스트 X, Y\n",
        "data = np.array([[1, 4], [4, 2], \n",
        "                [3, 7], [6, 1],\n",
        "                [2, 5]]) \n",
        "data"
      ],
      "metadata": {
        "colab": {
          "base_uri": "https://localhost:8080/"
        },
        "id": "4_6Mr3g9E3EY",
        "outputId": "df23514a-4630-40de-9a1f-289a0f9fc3a5"
      },
      "execution_count": 5,
      "outputs": [
        {
          "output_type": "execute_result",
          "data": {
            "text/plain": [
              "array([[1, 4],\n",
              "       [4, 2],\n",
              "       [3, 7],\n",
              "       [6, 1],\n",
              "       [2, 5]])"
            ]
          },
          "metadata": {},
          "execution_count": 5
        }
      ]
    },
    {
      "cell_type": "code",
      "source": [
        " # 원데이터의 X, Y의 산포도  \n",
        "plt.scatter(data[:,0], data[:,1])\n",
        "plt.xlabel('X')\n",
        "plt.ylabel('Y')\n",
        "plt.xlim(0, 10)\n",
        "plt.ylim(0, 10)\n",
        "\n",
        "# 행과 열의 수 \n",
        "rows, columns = data.shape\n",
        "# 데이터 라벨 \n",
        "for i in range(rows):\n",
        "  plt.annotate(i+1, (data[i,0], data[i,1]))"
      ],
      "metadata": {
        "colab": {
          "base_uri": "https://localhost:8080/",
          "height": 455
        },
        "id": "Vo8uXthNFcfk",
        "outputId": "6e81fd6d-1929-4522-8a57-b818a32a5fb4"
      },
      "execution_count": 6,
      "outputs": [
        {
          "output_type": "display_data",
          "data": {
            "text/plain": [
              "<Figure size 640x480 with 1 Axes>"
            ],
            "image/png": "[encoded data removed]"
          },
          "metadata": {}
        }
      ]
    },
    {
      "cell_type": "code",
      "source": [
        "# 데이터 표준화\n",
        "scaler = StandardScaler()\n",
        "scaler.fit(data)  #표준화 스케일러를 data에 기준을 맞춤춤\n",
        "data_std = scaler.transform(data)\n",
        "print(data_std)"
      ],
      "metadata": {
        "colab": {
          "base_uri": "https://localhost:8080/"
        },
        "id": "JOtnWxLnFdJB",
        "outputId": "8fff9892-681d-4467-814a-0facb97bbe0b"
      },
      "execution_count": 7,
      "outputs": [
        {
          "output_type": "stream",
          "name": "stdout",
          "text": [
            "[[-1.27872403  0.09365858]\n",
            " [ 0.46499055 -0.84292723]\n",
            " [-0.11624764  1.4985373 ]\n",
            " [ 1.62746694 -1.31122014]\n",
            " [-0.69748583  0.56195149]]\n"
          ]
        }
      ]
    },
    {
      "cell_type": "code",
      "source": [
        "# 표준화 데이터의 X, Y의 산포도  \n",
        "plt.scatter(data_std[:,0], data_std[:,1])\n",
        "plt.xlabel('X')\n",
        "plt.ylabel('Y')\n",
        "plt.xlim(-2, 2)\n",
        "plt.ylim(-2, 2)\n",
        "\n",
        "# 행과 열의 수\n",
        "rows, columns = data_std.shape\n",
        "# 데이터 라벨 \n",
        "for i in range(rows):\n",
        "  plt.annotate(i+1, (data_std[i,0], data_std[i,1]))  "
      ],
      "metadata": {
        "colab": {
          "base_uri": "https://localhost:8080/",
          "height": 455
        },
        "id": "Z_uU5ZkOGljO",
        "outputId": "fb3a0d66-9a6e-4d00-90bf-d9b687fb8bb2"
      },
      "execution_count": 8,
      "outputs": [
        {
          "output_type": "display_data",
          "data": {
            "text/plain": [
              "<Figure size 640x480 with 1 Axes>"
            ],
            "image/png": "[encoded data removed]"
          },
          "metadata": {}
        }
      ]
    },
    {
      "cell_type": "code",
      "source": [
        "# 군집의 수를 2개로 하는 군집화 객체\n",
        "kmeans = KMeans(n_clusters=2)\n",
        "# 2, 3열을 이용한 군집화\n",
        "kmeans.fit(data_std)\n",
        "# 군집 라벨 \n",
        "print(kmeans.labels_)\n",
        "# 군집별 군집 중심\n",
        "print(kmeans.cluster_centers_)"
      ],
      "metadata": {
        "colab": {
          "base_uri": "https://localhost:8080/"
        },
        "id": "5L08dtW5HCaw",
        "outputId": "ea9ac3e1-a36d-4a9d-ec7f-6b353e4ebab4"
      },
      "execution_count": 9,
      "outputs": [
        {
          "output_type": "stream",
          "name": "stderr",
          "text": [
            "/usr/local/lib/python3.9/dist-packages/sklearn/cluster/_kmeans.py:870: FutureWarning: The default value of `n_init` will change from 10 to 'auto' in 1.4. Set the value of `n_init` explicitly to suppress the warning\n",
            "  warnings.warn(\n"
          ]
        },
        {
          "output_type": "stream",
          "name": "stdout",
          "text": [
            "[0 1 0 1 0]\n",
            "[[-0.69748583  0.71804912]\n",
            " [ 1.04622875 -1.07707368]]\n"
          ]
        }
      ]
    },
    {
      "cell_type": "code",
      "source": [
        "# 결과 분석\n",
        "# 군집 데이터 분포 \n",
        "plt.scatter(data_std[:,0], data_std[:,1], c=kmeans.labels_, s=50)\n",
        "# plt.title('X와 Y에 대한 분포: 표준화')\n",
        "plt.xlabel('X')\n",
        "plt.ylabel('Y')\n",
        "plt.xlim(-2, 2)\n",
        "plt.ylim(-2, 2)\n",
        "\n",
        "# 행과 열의 수\n",
        "rows, columns = data_std.shape\n",
        "\n",
        "# 데이터 라벨\n",
        "for i in range(rows):\n",
        "  plt.annotate(i+1, (data_std[i,0], data_std[i,1]))  \n",
        "\n",
        "# 군집 중심 표시 \n",
        "plt.scatter(kmeans.cluster_centers_[:, 0], \n",
        "            kmeans.cluster_centers_[:, 1], \n",
        "            c='red', s=200, alpha=0.5);\n",
        "# 군집 라벨 \n",
        "for k in range(columns):\n",
        "  plt.annotate(k, \n",
        "              (kmeans.cluster_centers_[k, 0], kmeans.cluster_centers_[k, 1]))"
      ],
      "metadata": {
        "colab": {
          "base_uri": "https://localhost:8080/",
          "height": 455
        },
        "id": "R7EYXvI_HW0F",
        "outputId": "f6f6671c-3c9e-4112-9925-caa9ab0a1223"
      },
      "execution_count": 10,
      "outputs": [
        {
          "output_type": "display_data",
          "data": {
            "text/plain": [
              "<Figure size 640x480 with 1 Axes>"
            ],
            "image/png": "[encoded data removed]"
          },
          "metadata": {}
        }
      ]
    },
    {
      "cell_type": "code",
      "source": [
        "# 클러스터 수별 TWSS 값  \n",
        "TWSS = {}\n",
        "# 군집 수 1~5까지 반복 \n",
        "for k in range(1, 6): \n",
        "  # 군집 수 설정과 군집화 객체 생성 \n",
        "  model = KMeans(n_clusters=k)\n",
        "  # 표준화된 X, Y 데이터에 대한 군집화  \n",
        "  model.fit(data_std)\n",
        "  # 군집 수별 TWSS 값 저장 \n",
        "  TWSS[k] = model.inertia_\n",
        "\n",
        "# 군집 수에 따른 TWSS 그래프\n",
        "plt.plot(list(TWSS.keys()), list(TWSS.values()), marker='o')\n",
        "plt.xlabel(\"Number of Clusters(K)\")\n",
        "plt.ylabel(\"TWSS\")\n",
        "plt.show()"
      ],
      "metadata": {
        "colab": {
          "base_uri": "https://localhost:8080/",
          "height": 633
        },
        "id": "mBDUbcOYH7HU",
        "outputId": "3797c474-2f66-45c5-b2b9-7d48789ddb93"
      },
      "execution_count": 11,
      "outputs": [
        {
          "output_type": "stream",
          "name": "stderr",
          "text": [
            "/usr/local/lib/python3.9/dist-packages/sklearn/cluster/_kmeans.py:870: FutureWarning: The default value of `n_init` will change from 10 to 'auto' in 1.4. Set the value of `n_init` explicitly to suppress the warning\n",
            "  warnings.warn(\n",
            "/usr/local/lib/python3.9/dist-packages/sklearn/cluster/_kmeans.py:870: FutureWarning: The default value of `n_init` will change from 10 to 'auto' in 1.4. Set the value of `n_init` explicitly to suppress the warning\n",
            "  warnings.warn(\n",
            "/usr/local/lib/python3.9/dist-packages/sklearn/cluster/_kmeans.py:870: FutureWarning: The default value of `n_init` will change from 10 to 'auto' in 1.4. Set the value of `n_init` explicitly to suppress the warning\n",
            "  warnings.warn(\n",
            "/usr/local/lib/python3.9/dist-packages/sklearn/cluster/_kmeans.py:870: FutureWarning: The default value of `n_init` will change from 10 to 'auto' in 1.4. Set the value of `n_init` explicitly to suppress the warning\n",
            "  warnings.warn(\n",
            "/usr/local/lib/python3.9/dist-packages/sklearn/cluster/_kmeans.py:870: FutureWarning: The default value of `n_init` will change from 10 to 'auto' in 1.4. Set the value of `n_init` explicitly to suppress the warning\n",
            "  warnings.warn(\n"
          ]
        },
        {
          "output_type": "display_data",
          "data": {
            "text/plain": [
              "<Figure size 640x480 with 1 Axes>"
            ],
            "image/png": "[encoded data removed]"
          },
          "metadata": {}
        }
      ]
    },
    {
      "cell_type": "code",
      "source": [
        "print(data_std)"
      ],
      "metadata": {
        "colab": {
          "base_uri": "https://localhost:8080/"
        },
        "id": "sIi9gc3rIUaf",
        "outputId": "ecf6f8e6-c626-4202-ebf0-296de236889e"
      },
      "execution_count": 12,
      "outputs": [
        {
          "output_type": "stream",
          "name": "stdout",
          "text": [
            "[[-1.27872403  0.09365858]\n",
            " [ 0.46499055 -0.84292723]\n",
            " [-0.11624764  1.4985373 ]\n",
            " [ 1.62746694 -1.31122014]\n",
            " [-0.69748583  0.56195149]]\n"
          ]
        }
      ]
    },
    {
      "cell_type": "code",
      "source": [
        "#거리 계산\n",
        "import math\n",
        "def distance(x1,y1,x2,y2):\n",
        "  result = math.sqrt(math.pow(x1-x2,2) + math.pow(y1-y2,2))\n",
        "  return result\n",
        "#0번, 1번번 군집중심 정의\n",
        "p0_1=(1.04622875, -1.07707368)\n",
        "p0_2=(-0.69748583, 0.71804912)\n",
        "p1=(-1.27872403, 0.09365858)\n",
        "d_1= distance(p0_1[0],p0_1[1],p1[0],p1[1])\n",
        "print(d_1)"
      ],
      "metadata": {
        "colab": {
          "base_uri": "https://localhost:8080/"
        },
        "id": "t_kXGpkyMv6Z",
        "outputId": "a55ad8ae-d623-4b13-a4b6-9ad6a5a47499"
      },
      "execution_count": 29,
      "outputs": [
        {
          "output_type": "stream",
          "name": "stdout",
          "text": [
            "2.603078841263637\n"
          ]
        }
      ]
    },
    {
      "cell_type": "code",
      "source": [
        "p2=(0.46499055, -0.84292723)\n",
        "d_2 = distance(p0_1[0], p0_1[1], p2[0], p2[1])\n",
        "print(d_2)"
      ],
      "metadata": {
        "colab": {
          "base_uri": "https://localhost:8080/"
        },
        "id": "x-_tEw9zS5QO",
        "outputId": "03fba069-82e9-4d48-b111-2e9886f2ee4f"
      },
      "execution_count": 14,
      "outputs": [
        {
          "output_type": "stream",
          "name": "stdout",
          "text": [
            "0.6266278043518677\n"
          ]
        }
      ]
    },
    {
      "cell_type": "code",
      "source": [
        "p3=(-0.11624764, 1.4985373)\n",
        "d_3 = distance(p0_1[0], p0_1[1], p3[0], p3[1])\n",
        "print(d_3)"
      ],
      "metadata": {
        "colab": {
          "base_uri": "https://localhost:8080/"
        },
        "id": "x16MtW7TOnZL",
        "outputId": "d3753495-3654-4a21-8bb3-b780bc8f0607"
      },
      "execution_count": 15,
      "outputs": [
        {
          "output_type": "stream",
          "name": "stdout",
          "text": [
            "2.8257960431715508\n"
          ]
        }
      ]
    },
    {
      "cell_type": "code",
      "source": [
        "p4=(1.62746694, -1.31122014)\n",
        "d_4 = distance(p0_1[0], p0_1[1], p4[0], p4[1])\n",
        "print(d_4)"
      ],
      "metadata": {
        "colab": {
          "base_uri": "https://localhost:8080/"
        },
        "id": "SmzTYXiKVYFJ",
        "outputId": "ea259a71-691a-4003-b659-8fffcc893d67"
      },
      "execution_count": 16,
      "outputs": [
        {
          "output_type": "stream",
          "name": "stdout",
          "text": [
            "0.626627798812826\n"
          ]
        }
      ]
    },
    {
      "cell_type": "code",
      "source": [
        "p5=(-0.69748583, 0.56195149)\n",
        "d_5 = distance(p0_1[0], p0_1[1], p5[0], p5[1])\n",
        "print(d_5)"
      ],
      "metadata": {
        "colab": {
          "base_uri": "https://localhost:8080/"
        },
        "id": "Jdpzk8l2V2Sk",
        "outputId": "d0816063-0f8d-41de-b44e-7450866cbcb5"
      },
      "execution_count": 17,
      "outputs": [
        {
          "output_type": "stream",
          "name": "stdout",
          "text": [
            "2.3931034337023767\n"
          ]
        }
      ]
    },
    {
      "cell_type": "code",
      "source": [
        "d_6 = distance(p0_2[0], p0_2[1], p1[0], p1[1])\n",
        "print(d_6)"
      ],
      "metadata": {
        "colab": {
          "base_uri": "https://localhost:8080/"
        },
        "id": "4N8QEC8vYQvt",
        "outputId": "9fa3f9a4-a2bb-4eaf-ff73-96c2b66a20be"
      },
      "execution_count": 18,
      "outputs": [
        {
          "output_type": "stream",
          "name": "stdout",
          "text": [
            "0.8530541551277572\n"
          ]
        }
      ]
    },
    {
      "cell_type": "code",
      "source": [
        "d_7 = distance(p0_2[0], p0_2[1], p2[0], p2[1])\n",
        "print(d_7)"
      ],
      "metadata": {
        "colab": {
          "base_uri": "https://localhost:8080/"
        },
        "id": "nxoyOycCZDM2",
        "outputId": "0ee6d1fe-22d9-4bed-8a47-2bdd32cf3998"
      },
      "execution_count": 19,
      "outputs": [
        {
          "output_type": "stream",
          "name": "stdout",
          "text": [
            "1.9462781145862034\n"
          ]
        }
      ]
    },
    {
      "cell_type": "code",
      "source": [
        "d_8 = distance(p0_2[0], p0_2[1], p3[0], p3[1])\n",
        "print(d_8)"
      ],
      "metadata": {
        "colab": {
          "base_uri": "https://localhost:8080/"
        },
        "id": "hY75iE-DZHMB",
        "outputId": "7fffebc8-d402-45a4-d46b-51e748e8a040"
      },
      "execution_count": 20,
      "outputs": [
        {
          "output_type": "stream",
          "name": "stdout",
          "text": [
            "0.9731390613032592\n"
          ]
        }
      ]
    },
    {
      "cell_type": "code",
      "source": [
        "d_9 = distance(p0_2[0], p0_2[1], p4[0], p4[1])\n",
        "print(d_9)"
      ],
      "metadata": {
        "colab": {
          "base_uri": "https://localhost:8080/"
        },
        "id": "G_RqhOGpZQQJ",
        "outputId": "1eb14cd8-ab42-420e-d24b-a23fc12b8bd8"
      },
      "execution_count": 21,
      "outputs": [
        {
          "output_type": "stream",
          "name": "stdout",
          "text": [
            "3.085990782927198\n"
          ]
        }
      ]
    },
    {
      "cell_type": "code",
      "source": [
        "d_10 = distance(p0_2[0], p0_2[1], p5[0], p5[1])\n",
        "print(d_10)"
      ],
      "metadata": {
        "colab": {
          "base_uri": "https://localhost:8080/"
        },
        "id": "nu_P9zt_ZckD",
        "outputId": "97e036d8-7da3-46f2-de67-a57c76c9d0ed"
      },
      "execution_count": 22,
      "outputs": [
        {
          "output_type": "stream",
          "name": "stdout",
          "text": [
            "0.15609763\n"
          ]
        }
      ]
    },
    {
      "cell_type": "code",
      "source": [
        "#2-3 답\n",
        "WSS_0 = d_1**2 + d_2**2 + d_3**2 + d_4**2 + d_5**2\n",
        "print(WSS_0)"
      ],
      "metadata": {
        "colab": {
          "base_uri": "https://localhost:8080/"
        },
        "id": "bxkx--2DZwaN",
        "outputId": "3f5d3b36-ab46-483d-ad43-7e211fe14d2d"
      },
      "execution_count": 23,
      "outputs": [
        {
          "output_type": "stream",
          "name": "stdout",
          "text": [
            "21.273411579268387\n"
          ]
        }
      ]
    },
    {
      "cell_type": "code",
      "source": [
        "WSS_1 = d_6**2 + d_7**2 + d_8**2 + d_9**2 + d_10**2\n",
        "print(WSS_1)"
      ],
      "metadata": {
        "colab": {
          "base_uri": "https://localhost:8080/"
        },
        "id": "Wel4LMn0bHTs",
        "outputId": "57fe6e6d-fc92-46f6-906c-b88ba9348dd5"
      },
      "execution_count": 24,
      "outputs": [
        {
          "output_type": "stream",
          "name": "stdout",
          "text": [
            "15.010405105935384\n"
          ]
        }
      ]
    },
    {
      "cell_type": "code",
      "source": [
        "#2-3 답\n",
        "TWSS = WSS_0 + WSS_1\n",
        "TWSS"
      ],
      "metadata": {
        "colab": {
          "base_uri": "https://localhost:8080/"
        },
        "id": "IwQaKQMDbbK0",
        "outputId": "470877ee-593b-4195-b547-c2214ba63e5e"
      },
      "execution_count": 25,
      "outputs": [
        {
          "output_type": "execute_result",
          "data": {
            "text/plain": [
              "36.283816685203774"
            ]
          },
          "metadata": {},
          "execution_count": 25
        }
      ]
    },
    {
      "cell_type": "code",
      "source": [
        "#2-1 표 기입\n",
        "import pandas as pd\n",
        "col = [0, 0]\n",
        "ind = [0, 0]\n",
        "con = [[0, 0], [0, 0]]\n",
        "df = pd.DataFrame(con, columns=col, index=ind)\n",
        "\n",
        "def df_maker(col_num, ind_num, fill):\n",
        "    col = []\n",
        "    ind = []\n",
        "    con = []\n",
        "    for i in range(0,col_num):\n",
        "        col.append(fill)\n",
        "    for i in range(0,ind_num):\n",
        "        ind.append(fill)\n",
        "    for i in range(0,ind_num):\n",
        "        con.append(col)\n",
        "    return pd.DataFrame(con, columns=col, index=ind)\n",
        "\n",
        "df = df_maker(5,5,0)\n",
        "col = [\"X\",\"Y\",\"거리1\",\"거리2\",\"군집할당\",]\n",
        "ind = [1,2,3,4,5]\n",
        "df.columns = col\n",
        "df.index = ind\n",
        "\n",
        "df[\"X\"] = [-1.27872403,0.46499055,-0.11624764,1.62746694,-0.69748583]\n",
        "df[\"Y\"] = [0.09365858,-0.84292723, 1.4985373,-1.31122014,  0.56195149]\n",
        "df[\"거리1\"] = [0.8530541551277572,\n",
        "1.9462781145862034,\n",
        "0.9731390613032592,\n",
        "3.085990782927198,\n",
        "0.15609763]\n",
        "df[\"거리2\"] = [2.603078841263637,\n",
        "0.6266278043518677,\n",
        "2.8257960431715508,\n",
        "0.626627798812826,\n",
        "2.3931034337023767]\n",
        "df[\"군집할당\"]=[0, 1 ,0 ,1, 0]\n",
        "\n",
        "#2-1 답\n",
        "print(df)"
      ],
      "metadata": {
        "colab": {
          "base_uri": "https://localhost:8080/"
        },
        "id": "LaKok685bnIx",
        "outputId": "3c0b9e2d-de79-42db-82db-851996d17563"
      },
      "execution_count": 26,
      "outputs": [
        {
          "output_type": "stream",
          "name": "stdout",
          "text": [
            "          X         Y       거리1       거리2  군집할당\n",
            "1 -1.278724  0.093659  0.853054  2.603079     0\n",
            "2  0.464991 -0.842927  1.946278  0.626628     1\n",
            "3 -0.116248  1.498537  0.973139  2.825796     0\n",
            "4  1.627467 -1.311220  3.085991  0.626628     1\n",
            "5 -0.697486  0.561951  0.156098  2.393103     0\n"
          ]
        }
      ]
    }
  ]
}